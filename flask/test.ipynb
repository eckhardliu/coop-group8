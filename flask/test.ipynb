{
 "cells": [
  {
   "cell_type": "code",
   "execution_count": 1,
   "metadata": {},
   "outputs": [],
   "source": [
    "from flask import Flask\n",
    "from flask import jsonify, render_template,request,Response\n",
    "from flask_cors import CORS\n",
    "from flask_pymongo import PyMongo\n",
    "import pymongo\n",
    "app = Flask(__name__)\n",
    "CORS(app, supports_credentials=True) \n",
    "\n",
    "mongo = PyMongo(app, uri=\"mongodb://192.168.100.144:27021/flask\") \n",
    "db = pymongo.MongoClient('192.168.100.144', 27021).flask"
   ]
  },
  {
   "cell_type": "code",
   "execution_count": null,
   "metadata": {},
   "outputs": [],
   "source": []
  },
  {
   "cell_type": "code",
   "execution_count": 5,
   "metadata": {},
   "outputs": [
    {
     "name": "stdout",
     "output_type": "stream",
     "text": [
      "{'goods': [{'name': '康师傅香辣牛肉面', 'price': '10.9'}, {'name': '伊利纯牛奶x2', 'price': '6.6'}]}\n",
      "{'goods': [{'name': '鸡蛋10个', 'price': '22'}, {'name': '胡萝卜', 'price': '12'}]}\n",
      "{'goods': [{'name': '面', 'price': '13'}]}\n",
      "{'goods': [{'name': '光明纯牛奶', 'price': '64.9'}, {'name': '六月鲜酱油', 'price': '6.6'}, {'name': '光明', 'price': '24.9'}]}\n",
      "{'goods': [{'name': '肉', 'price': '30'}]}\n"
     ]
    }
   ],
   "source": [
    "name = []\n",
    "price = []\n",
    "        # 查询全部\n",
    "for i in mongo.db.goods.find({},{'_id':0,'goods':1}).sort([('goods.price',1)]):\n",
    "    print(i)\n",
    "    name.append(i.get('goods')[0]['name'])\n",
    "    price.append(i.get('goods')[0]['price'])"
   ]
  },
  {
   "cell_type": "code",
   "execution_count": 93,
   "metadata": {},
   "outputs": [],
   "source": [
    "li=[]\n",
    "place=[]\n",
    "for i in  mongo.db.goods.find({},{'_id':0,'goods':1,'place':1}).sort([('goods.price',1)]):\n",
    "    li.append(i.get('goods'))\n",
    "    place.append(i.get('place'))\n",
    "    "
   ]
  },
  {
   "cell_type": "code",
   "execution_count": 94,
   "metadata": {},
   "outputs": [
    {
     "data": {
      "text/plain": [
       "['宝山大场', '浦东', '徐汇梅陇', '徐汇梅陇', '徐汇']"
      ]
     },
     "execution_count": 94,
     "metadata": {},
     "output_type": "execute_result"
    }
   ],
   "source": [
    "place"
   ]
  },
  {
   "cell_type": "code",
   "execution_count": 88,
   "metadata": {},
   "outputs": [
    {
     "name": "stdout",
     "output_type": "stream",
     "text": [
      "10.9\n",
      "30.0\n",
      "30.0\n",
      "56.9\n",
      "64.9\n"
     ]
    }
   ],
   "source": [
    "price=[]\n",
    "for n in range(len(li)):\n",
    "    m=[]\n",
    "    for i in range(len(li[n])):\n",
    "        m.append(li[n][i]['price'])\n",
    "    l=[float(x) for x in m]\n",
    "    print(max(l))\n",
    "    price.append(max(l))\n",
    "\n"
   ]
  },
  {
   "cell_type": "code",
   "execution_count": 80,
   "metadata": {},
   "outputs": [
    {
     "data": {
      "text/plain": [
       "['6.6', '30', '30', '56.9', '64.9']"
      ]
     },
     "execution_count": 80,
     "metadata": {},
     "output_type": "execute_result"
    }
   ],
   "source": [
    "price"
   ]
  }
 ],
 "metadata": {
  "interpreter": {
   "hash": "5b40236983a8937063eea80cca0220afe0fca9b889207b5a1254e6bf176d0e75"
  },
  "kernelspec": {
   "display_name": "Python 3.9.7 ('base')",
   "language": "python",
   "name": "python3"
  },
  "language_info": {
   "codemirror_mode": {
    "name": "ipython",
    "version": 3
   },
   "file_extension": ".py",
   "mimetype": "text/x-python",
   "name": "python",
   "nbconvert_exporter": "python",
   "pygments_lexer": "ipython3",
   "version": "3.9.7"
  },
  "orig_nbformat": 4
 },
 "nbformat": 4,
 "nbformat_minor": 2
}
